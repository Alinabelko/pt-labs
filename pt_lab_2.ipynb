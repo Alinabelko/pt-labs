{
  "nbformat": 4,
  "nbformat_minor": 0,
  "metadata": {
    "colab": {
      "name": "pt-lab-2.ipynb",
      "provenance": [],
      "authorship_tag": "ABX9TyNQ4yMO9vna5k+b3JjCLBGW",
      "include_colab_link": true
    },
    "kernelspec": {
      "name": "python3",
      "display_name": "Python 3"
    }
  },
  "cells": [
    {
      "cell_type": "markdown",
      "metadata": {
        "id": "view-in-github",
        "colab_type": "text"
      },
      "source": [
        "<a href=\"https://colab.research.google.com/github/Alinabelko/pt-labs/blob/master/pt_lab_2.ipynb\" target=\"_parent\"><img src=\"https://colab.research.google.com/assets/colab-badge.svg\" alt=\"Open In Colab\"/></a>"
      ]
    },
    {
      "cell_type": "code",
      "metadata": {
        "id": "e8rjVvoBXc48",
        "colab_type": "code",
        "colab": {
          "base_uri": "https://localhost:8080/",
          "height": 141
        },
        "outputId": "1ec89e89-4da5-457b-bd87-b678444be08a"
      },
      "source": [
        "import xml\n",
        "import re\n",
        "import random\n",
        "from google.colab import drive\n",
        "drive.mount('/content/drive')\n",
        "%cd drive/My Drive"
      ],
      "execution_count": 1,
      "outputs": [
        {
          "output_type": "stream",
          "text": [
            "Go to this URL in a browser: https://accounts.google.com/o/oauth2/auth?client_id=947318989803-6bn6qk8qdgf4n4g3pfee6491hc0brc4i.apps.googleusercontent.com&redirect_uri=urn%3aietf%3awg%3aoauth%3a2.0%3aoob&response_type=code&scope=email%20https%3a%2f%2fwww.googleapis.com%2fauth%2fdocs.test%20https%3a%2f%2fwww.googleapis.com%2fauth%2fdrive%20https%3a%2f%2fwww.googleapis.com%2fauth%2fdrive.photos.readonly%20https%3a%2f%2fwww.googleapis.com%2fauth%2fpeopleapi.readonly\n",
            "\n",
            "Enter your authorization code:\n",
            "··········\n",
            "Mounted at /content/drive\n",
            "/content/drive/My Drive\n"
          ],
          "name": "stdout"
        }
      ]
    },
    {
      "cell_type": "code",
      "metadata": {
        "id": "yYysmK_eZz6r",
        "colab_type": "code",
        "colab": {}
      },
      "source": [
        "def save_context():\n",
        "  f = open('numbers.xml', 'w')\n",
        "  f.write('<?xml version=\"1.0\" encoding=\"UTF-8\"?>')\n",
        "\n",
        "  f.write('<numbers>')\n",
        "  for number in numbers_list :\n",
        "    f.write('<number>' + str(number) + '</number>')\n",
        "  f.write('</numbers>')\n",
        "\n",
        "  f.close()"
      ],
      "execution_count": 0,
      "outputs": []
    },
    {
      "cell_type": "code",
      "metadata": {
        "id": "hiyCse8WXYSL",
        "colab_type": "code",
        "colab": {}
      },
      "source": [
        "def read_context():\n",
        "  f = open('numbers.xml', 'r')\n",
        "  result = re.findall(r'<number>(.*?)</number>', f.read())\n",
        "  numbers_list = result\n",
        "  f.close()\n",
        "  print('xml:', result)\n",
        "  return result"
      ],
      "execution_count": 0,
      "outputs": []
    },
    {
      "cell_type": "code",
      "metadata": {
        "id": "v3UsIc9EW7Rw",
        "colab_type": "code",
        "colab": {}
      },
      "source": [
        "def put(numbers):\n",
        "  read_context()\n",
        "  for number in numbers:\n",
        "    if(not str(number).isnumeric()):\n",
        "      print('Значение', number, 'не является числом')\n",
        "      continue\n",
        "    numbers_list.append(number)\n",
        "  save_context()\n",
        "  print('Числа помещены в список:')\n",
        "  print(numbers_list)"
      ],
      "execution_count": 0,
      "outputs": []
    },
    {
      "cell_type": "code",
      "metadata": {
        "id": "uqc_zFSjW_Vy",
        "colab_type": "code",
        "colab": {}
      },
      "source": [
        "def push():\n",
        "  if(len(numbers_list)==0):\n",
        "    print('Набор чисел пуст.')\n",
        "  else:\n",
        "    rand = random.randint(0, len(numbers_list)-1)\n",
        "    print(\"Извлечено число\", numbers_list.pop(rand))\n",
        "    save_context()"
      ],
      "execution_count": 0,
      "outputs": []
    },
    {
      "cell_type": "code",
      "metadata": {
        "id": "VhzTfUXg3GU1",
        "colab_type": "code",
        "colab": {}
      },
      "source": [
        "numbers_list = []\n",
        "numbers_list = read_context()\n",
        "while(1):\n",
        "  print(\"Введите число или несколько через пробел, если хотите добавить их в список. Введите -1 чтобы извлечь число из списка\")\n",
        "  inp = input()\n",
        "  if(inp == '-1'):\n",
        "     push()\n",
        "     print(numbers_list)\n",
        "  else:\n",
        "    numbers = inp.split()\n",
        "    put(numbers)"
      ],
      "execution_count": 0,
      "outputs": []
    }
  ]
}