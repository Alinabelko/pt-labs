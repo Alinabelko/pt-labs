{
  "nbformat": 4,
  "nbformat_minor": 0,
  "metadata": {
    "colab": {
      "name": "pt-lab-1.ipynb",
      "provenance": [],
      "authorship_tag": "ABX9TyMIjiruyrix9SRfLDglV69p",
      "include_colab_link": true
    },
    "kernelspec": {
      "name": "python3",
      "display_name": "Python 3"
    }
  },
  "cells": [
    {
      "cell_type": "markdown",
      "metadata": {
        "id": "view-in-github",
        "colab_type": "text"
      },
      "source": [
        "<a href=\"https://colab.research.google.com/github/Alinabelko/pt-labs/blob/master/pt_lab_1.ipynb\" target=\"_parent\"><img src=\"https://colab.research.google.com/assets/colab-badge.svg\" alt=\"Open In Colab\"/></a>"
      ]
    },
    {
      "cell_type": "markdown",
      "metadata": {
        "id": "dLZxmJa_Lp9r",
        "colab_type": "text"
      },
      "source": [
        "   Каждая   разделяемая  библиотека  имеет  специальное  имя,  называемое\n",
        "   \"**soname**\".  Оно  имеет  префикс \"lib\", само имя библиотеки, также слово\n",
        "   \".so\",  за  которым  следует  номер  стадии и номер версии библиотеки,\n",
        "   которые  меняются  каждый  раз, когда у библиотеки меняется интерфейс.\n",
        "   (Особое  исключение: библиотеки низкого уровня языка С не начинаются с\n",
        "   \"lib\"). Полное имя soname включает в качестве префикса имя дериктории,\n",
        "   в   которой   библиотека  находится.  На  живых  системах  полное  имя\n",
        "   библиотеки  -  это  просто  символическая  ссылка  на  имя  real  name\n",
        "   разделяемой библиотеки.\n",
        "\n",
        "   Также,  каждая  разделяемая  библиотека имеет имя **real name**. Это - имя\n",
        "   файла, содержащего собственно код библиотеки. Real name в дополнение к\n",
        "   soname  содержит  номер  стадии, минорный номер (minor number), второй\n",
        "   номер   стадии  и  номер  релиза.  Второй  номер  и  номер  релиза  не\n",
        "   обязательны  (are  optional).  Минорный  номер и номер релиза дают вам\n",
        "   знать,  какие  именно  версии  библиотек  установлены у вас в системе.\n",
        "   Кстати,  в документации на библиотеку эти два последних номера могут с\n",
        "   библиотечными своими собратьями не совпадать.\n",
        "\n",
        "   Далее.   У   библиотеки   существует   ещё  один  тип  имени,  который\n",
        "   используется  системой,  когда  библиотеку запрашивают. Называется оно\n",
        "   **linker  name**,  которое  на  самом  деле  равно soname, но без указания\n",
        "   версии.\n",
        "\n",
        "   Способ   содержания   разделяемых  библиотек  в  хозяйстве  состоит  в\n",
        "   различении   их   по   именам.  Каждое  приложение  должно  помнить  о\n",
        "   разделяемой  библиотеке,  которая  ему нужна, помня только soname этой\n",
        "   библиотеки.  Наоборот,  когда  вы  разделяемую библиотеку создаёте, вы\n",
        "   имеете  дело  только  с  именем  файла,  содержащего  более  детальную\n",
        "   информацию  о  версии.  Когда  вашу библиотеку будут устанавливать, её\n",
        "   запишут  в  один  из  специально предназначенных для этого каталогов в\n",
        "   файловой  системе  и запустят программу ldconfig. Эта хитрая программа\n",
        "   смотрит  в  упомянутые специальные каталоги и создаёт soname-имена как\n",
        "   символические  ссылки  к реальным именам, публикуя новости с фронтов в\n",
        "   файле /etc/ld.so.cache."
      ]
    },
    {
      "cell_type": "markdown",
      "metadata": {
        "id": "L-eZFfVoJW7X",
        "colab_type": "text"
      },
      "source": [
        "libIsRising.so: linker name файл, симлинк на Fully qualified name или soname файл, в данном случае это libIsRising.so.0\n",
        "\n",
        "libIsRising.so.0: soname, который указывает на файл с real name — libIsRising.so.0.0\n",
        "\n",
        "libIsRising.so.0.0: непосредственно файл общей библиотеки"
      ]
    },
    {
      "cell_type": "code",
      "metadata": {
        "id": "VN80os8o4Fnf",
        "colab_type": "code",
        "outputId": "ea09da61-e39e-4d9f-c059-86e84608cd68",
        "colab": {
          "base_uri": "https://localhost:8080/",
          "height": 35
        }
      },
      "source": [
        "%%writefile libIsRising.cpp\n",
        "#include <iostream>\n",
        "using namespace std;\n",
        "\n",
        "bool isRising(int arr[], int length)\n",
        "{\n",
        "      for(int i=0; i < length-1; i++)\n",
        "    {\n",
        "        if(arr[i] >= arr[i+1]){\n",
        "            return false;\n",
        "        };\n",
        "    };\n",
        "      return true;\n",
        "}"
      ],
      "execution_count": 1,
      "outputs": [
        {
          "output_type": "stream",
          "text": [
            "Writing libIsRising.cpp\n"
          ],
          "name": "stdout"
        }
      ]
    },
    {
      "cell_type": "code",
      "metadata": {
        "id": "L9Rd5u4BAs_G",
        "colab_type": "code",
        "outputId": "09a9e2ad-e98b-4266-d754-f83a92feda17",
        "colab": {
          "base_uri": "https://localhost:8080/",
          "height": 35
        }
      },
      "source": [
        "%%writefile libIsRising.h\n",
        "\n",
        "bool isRising(int arr[], int length);\n"
      ],
      "execution_count": 2,
      "outputs": [
        {
          "output_type": "stream",
          "text": [
            "Writing libIsRising.h\n"
          ],
          "name": "stdout"
        }
      ]
    },
    {
      "cell_type": "code",
      "metadata": {
        "id": "G_RsGk6G7hvG",
        "colab_type": "code",
        "colab": {}
      },
      "source": [
        "%%script bash\n",
        "#Создаём объектный файл, указав опцию PIC (Position Independent Code), \n",
        "#Warning (-Wall - warning all), -g для добавления дебаг-информации и -c — что бы создать только файл библиотеки, без вызова линкера:\n",
        "g++ -fPIC -Wall -g -c libIsRising.cpp"
      ],
      "execution_count": 0,
      "outputs": []
    },
    {
      "cell_type": "code",
      "metadata": {
        "id": "YB1-1EgZ8IZ2",
        "colab_type": "code",
        "outputId": "cfa3d455-6663-407d-e11a-2da25aa15321",
        "colab": {
          "base_uri": "https://localhost:8080/",
          "height": 104
        }
      },
      "source": [
        "%ls -l"
      ],
      "execution_count": 4,
      "outputs": [
        {
          "output_type": "stream",
          "text": [
            "total 52\n",
            "-rw-r--r-- 1 root root   221 May  8 06:58 libIsRising.cpp\n",
            "-rw-r--r-- 1 root root    38 May  8 06:59 libIsRising.h\n",
            "-rw-r--r-- 1 root root 37136 May  8 06:59 libIsRising.o\n",
            "drwxr-xr-x 1 root root  4096 May  4 16:26 \u001b[0m\u001b[01;34msample_data\u001b[0m/\n"
          ],
          "name": "stdout"
        }
      ]
    },
    {
      "cell_type": "code",
      "metadata": {
        "id": "xYTsfFoM8WvU",
        "colab_type": "code",
        "colab": {}
      },
      "source": [
        "%%script bash\n",
        "# создадим общую библиотеку с дебагом (-g), тип общая (-shared),\n",
        "# указав (с помощь -Wl) линковщику (/usr/bin/ld) на использование имени libhello и версии 0, \n",
        "# результат сохранить в файл libhello.so.0.0 (опция -o), и использовать объектный файл libhello.o:\n",
        "gcc -g -shared -Wl,-soname,libIsRising.so.0 -o libIsRising.so.0.0 libIsRising.o -lc"
      ],
      "execution_count": 0,
      "outputs": []
    },
    {
      "cell_type": "code",
      "metadata": {
        "id": "71Y24pKC8ffu",
        "colab_type": "code",
        "outputId": "fc5d8684-b5c9-4621-946b-f8da1b2dc98c",
        "colab": {
          "base_uri": "https://localhost:8080/",
          "height": 121
        }
      },
      "source": [
        "%ls -l"
      ],
      "execution_count": 6,
      "outputs": [
        {
          "output_type": "stream",
          "text": [
            "total 80\n",
            "-rw-r--r-- 1 root root   221 May  8 06:58 libIsRising.cpp\n",
            "-rw-r--r-- 1 root root    38 May  8 06:59 libIsRising.h\n",
            "-rw-r--r-- 1 root root 37136 May  8 06:59 libIsRising.o\n",
            "-rwxr-xr-x 1 root root 28312 May  8 06:59 \u001b[0m\u001b[01;32mlibIsRising.so.0.0\u001b[0m*\n",
            "drwxr-xr-x 1 root root  4096 May  4 16:26 \u001b[01;34msample_data\u001b[0m/\n"
          ],
          "name": "stdout"
        }
      ]
    },
    {
      "cell_type": "code",
      "metadata": {
        "id": "M81fveFQ8q4M",
        "colab_type": "code",
        "outputId": "1f851274-013c-403d-bdd5-183c48950353",
        "colab": {
          "base_uri": "https://localhost:8080/",
          "height": 52
        }
      },
      "source": [
        "%%script bash\n",
        "#Далее — используем ldconfig, что бы создать файл с linker name, \n",
        "# который будет являться симлинком на файл с soname (полным именем), который в свою очередь — будет ссылкой на реальное имя:\n",
        "ldconfig -v -n /content"
      ],
      "execution_count": 7,
      "outputs": [
        {
          "output_type": "stream",
          "text": [
            "/content:\n",
            "\tlibIsRising.so.0 -> libIsRising.so.0.0 (changed)\n"
          ],
          "name": "stdout"
        }
      ]
    },
    {
      "cell_type": "code",
      "metadata": {
        "id": "6FdOeJnF9Dn7",
        "colab_type": "code",
        "outputId": "4e1dd5bb-1480-4a5c-bd2b-a093d96bf254",
        "colab": {
          "base_uri": "https://localhost:8080/",
          "height": 139
        }
      },
      "source": [
        "%ls -l"
      ],
      "execution_count": 8,
      "outputs": [
        {
          "output_type": "stream",
          "text": [
            "total 80\n",
            "-rw-r--r-- 1 root root   221 May  8 06:58 libIsRising.cpp\n",
            "-rw-r--r-- 1 root root    38 May  8 06:59 libIsRising.h\n",
            "-rw-r--r-- 1 root root 37136 May  8 06:59 libIsRising.o\n",
            "lrwxrwxrwx 1 root root    18 May  8 06:59 \u001b[0m\u001b[01;36mlibIsRising.so.0\u001b[0m -> \u001b[01;32mlibIsRising.so.0.0\u001b[0m*\n",
            "-rwxr-xr-x 1 root root 28312 May  8 06:59 \u001b[01;32mlibIsRising.so.0.0\u001b[0m*\n",
            "drwxr-xr-x 1 root root  4096 May  4 16:26 \u001b[01;34msample_data\u001b[0m/\n"
          ],
          "name": "stdout"
        }
      ]
    },
    {
      "cell_type": "code",
      "metadata": {
        "id": "ZEQGMK3J9FQK",
        "colab_type": "code",
        "colab": {}
      },
      "source": [
        "%%script bash\n",
        "# Создаём символьную ссылку на файл (для linker name):\n",
        "ln -sf libIsRising.so.0 libIsRising.so"
      ],
      "execution_count": 0,
      "outputs": []
    },
    {
      "cell_type": "code",
      "metadata": {
        "id": "wCqlVZgK4Ll2",
        "colab_type": "code",
        "outputId": "8dcf7837-7fed-4034-d2ca-e8cca2e06f12",
        "colab": {
          "base_uri": "https://localhost:8080/",
          "height": 35
        }
      },
      "source": [
        "%%writefile Main.cpp\n",
        "#include <iostream>\n",
        "#include <string>\n",
        "#include \"libIsRising.h\"\n",
        "using namespace std;\n",
        "\n",
        "int main(){\n",
        "    int length = 4;\n",
        "    int arr[] = {1, 2, 3, 4};\n",
        "    if(isRising(arr, length)){\n",
        "        cout << \"Входная последовательность строго возрастающая\" << endl;\n",
        "    } else {\n",
        "        cout << \"Входная последовательность не является строго возрастающей\" << endl;\n",
        "    }\n",
        "    \n",
        "  return 0;\n",
        "}"
      ],
      "execution_count": 10,
      "outputs": [
        {
          "output_type": "stream",
          "text": [
            "Writing Main.cpp\n"
          ],
          "name": "stdout"
        }
      ]
    },
    {
      "cell_type": "code",
      "metadata": {
        "id": "vgUbmg6L-J9Q",
        "colab_type": "code",
        "colab": {}
      },
      "source": [
        "%%script bash\n",
        "#Собираем программу, указав через -l — имя библиотеки (без lib), и с помощью -L — путь, по которому необходимо искать файл библиотеки\n",
        "g++ Main.cpp -o Main -lIsRising -L/content"
      ],
      "execution_count": 0,
      "outputs": []
    },
    {
      "cell_type": "code",
      "metadata": {
        "id": "7vjM_STKFSDx",
        "colab_type": "code",
        "colab": {
          "base_uri": "https://localhost:8080/",
          "height": 191
        },
        "outputId": "e0681354-1dcc-4ee8-b617-910a4c662b0c"
      },
      "source": [
        "%ls -l"
      ],
      "execution_count": 12,
      "outputs": [
        {
          "output_type": "stream",
          "text": [
            "total 100\n",
            "-rw-r--r-- 1 root root   221 May  8 06:58 libIsRising.cpp\n",
            "-rw-r--r-- 1 root root    38 May  8 06:59 libIsRising.h\n",
            "-rw-r--r-- 1 root root 37136 May  8 06:59 libIsRising.o\n",
            "lrwxrwxrwx 1 root root    16 May  8 06:59 \u001b[0m\u001b[01;36mlibIsRising.so\u001b[0m -> \u001b[01;32mlibIsRising.so.0\u001b[0m*\n",
            "lrwxrwxrwx 1 root root    18 May  8 06:59 \u001b[01;36mlibIsRising.so.0\u001b[0m -> \u001b[01;32mlibIsRising.so.0.0\u001b[0m*\n",
            "-rwxr-xr-x 1 root root 28312 May  8 06:59 \u001b[01;32mlibIsRising.so.0.0\u001b[0m*\n",
            "-rwxr-xr-x 1 root root 13112 May  8 06:59 \u001b[01;32mMain\u001b[0m*\n",
            "-rw-r--r-- 1 root root   471 May  8 06:59 Main.cpp\n",
            "drwxr-xr-x 1 root root  4096 May  4 16:26 \u001b[01;34msample_data\u001b[0m/\n"
          ],
          "name": "stdout"
        }
      ]
    },
    {
      "cell_type": "code",
      "metadata": {
        "id": "s0dpOHAPCw3e",
        "colab_type": "code",
        "colab": {}
      },
      "source": [
        "%%script bash\n",
        "#Добавляем текущий каталог в $LD_LIBRARY_PATH\n",
        "export LD_LIBRARY_PATH=$LD_LIBRARY_PATH:/content"
      ],
      "execution_count": 0,
      "outputs": []
    },
    {
      "cell_type": "code",
      "metadata": {
        "id": "px6Aau0XESyn",
        "colab_type": "code",
        "outputId": "b43c7b8f-9cc9-48d1-9115-df1ad81e3f8e",
        "colab": {
          "base_uri": "https://localhost:8080/",
          "height": 191
        }
      },
      "source": [
        "%ls -l"
      ],
      "execution_count": 14,
      "outputs": [
        {
          "output_type": "stream",
          "text": [
            "total 100\n",
            "-rw-r--r-- 1 root root   221 May  8 06:58 libIsRising.cpp\n",
            "-rw-r--r-- 1 root root    38 May  8 06:59 libIsRising.h\n",
            "-rw-r--r-- 1 root root 37136 May  8 06:59 libIsRising.o\n",
            "lrwxrwxrwx 1 root root    16 May  8 06:59 \u001b[0m\u001b[01;36mlibIsRising.so\u001b[0m -> \u001b[01;32mlibIsRising.so.0\u001b[0m*\n",
            "lrwxrwxrwx 1 root root    18 May  8 06:59 \u001b[01;36mlibIsRising.so.0\u001b[0m -> \u001b[01;32mlibIsRising.so.0.0\u001b[0m*\n",
            "-rwxr-xr-x 1 root root 28312 May  8 06:59 \u001b[01;32mlibIsRising.so.0.0\u001b[0m*\n",
            "-rwxr-xr-x 1 root root 13112 May  8 06:59 \u001b[01;32mMain\u001b[0m*\n",
            "-rw-r--r-- 1 root root   471 May  8 06:59 Main.cpp\n",
            "drwxr-xr-x 1 root root  4096 May  4 16:26 \u001b[01;34msample_data\u001b[0m/\n"
          ],
          "name": "stdout"
        }
      ]
    },
    {
      "cell_type": "code",
      "metadata": {
        "id": "2XOLKqcBFdL3",
        "colab_type": "code",
        "outputId": "19c24e70-fff4-429e-8c2e-80bac5e83c4e",
        "colab": {
          "base_uri": "https://localhost:8080/",
          "height": 225
        }
      },
      "source": [
        "%%script bash\n",
        "#загрузчик динамических библиотек(динамический линковщик - dynamic linker) выдает ошибку\n",
        "ldd Main"
      ],
      "execution_count": 15,
      "outputs": [
        {
          "output_type": "stream",
          "text": [
            "\tlinux-vdso.so.1 (0x00007ffd0da9e000)\n",
            "\t/usr/lib/x86_64-linux-gnu/libtcmalloc.so.4 (0x00007fef99f9c000)\n",
            "\tlibIsRising.so.0 => not found\n",
            "\tlibstdc++.so.6 => /usr/lib/x86_64-linux-gnu/libstdc++.so.6 (0x00007fef99c13000)\n",
            "\tlibc.so.6 => /lib/x86_64-linux-gnu/libc.so.6 (0x00007fef99822000)\n",
            "\tlibunwind.so.8 => /usr/lib/x86_64-linux-gnu/libunwind.so.8 (0x00007fef99607000)\n",
            "\tlibpthread.so.0 => /lib/x86_64-linux-gnu/libpthread.so.0 (0x00007fef993e8000)\n",
            "\tlibm.so.6 => /lib/x86_64-linux-gnu/libm.so.6 (0x00007fef9904a000)\n",
            "\t/lib64/ld-linux-x86-64.so.2 (0x00007fef9a40f000)\n",
            "\tlibgcc_s.so.1 => /lib/x86_64-linux-gnu/libgcc_s.so.1 (0x00007fef98e32000)\n",
            "\tliblzma.so.5 => /lib/x86_64-linux-gnu/liblzma.so.5 (0x00007fef98c0c000)\n",
            "\tlibdl.so.2 => /lib/x86_64-linux-gnu/libdl.so.2 (0x00007fef98a08000)\n"
          ],
          "name": "stdout"
        }
      ]
    },
    {
      "cell_type": "code",
      "metadata": {
        "id": "ONFwhSmPi4so",
        "colab_type": "code",
        "outputId": "0efb576e-3ad7-460a-f652-07c888301d3d",
        "colab": {
          "base_uri": "https://localhost:8080/",
          "height": 52
        }
      },
      "source": [
        "%%script bash\n",
        "#В этом списке описаны директории с библитеками. Кроме директории /lib - она подразумевается\n",
        "cat /etc/ld.so.conf"
      ],
      "execution_count": 16,
      "outputs": [
        {
          "output_type": "stream",
          "text": [
            "include /etc/ld.so.conf.d/*.conf\n",
            "\n"
          ],
          "name": "stdout"
        }
      ]
    },
    {
      "cell_type": "code",
      "metadata": {
        "id": "0COJnw2ajZOW",
        "colab_type": "code",
        "colab": {}
      },
      "source": [
        "%%script bash\n",
        "#добавили текущую папку в конец файла\n",
        "echo \"/content\" >> /etc/ld.so.conf"
      ],
      "execution_count": 0,
      "outputs": []
    },
    {
      "cell_type": "code",
      "metadata": {
        "id": "LB0nrQ79kCMO",
        "colab_type": "code",
        "outputId": "fe46b7c6-8e69-44a9-f42e-1a6db459fefd",
        "colab": {
          "base_uri": "https://localhost:8080/",
          "height": 52
        }
      },
      "source": [
        "%%script bash\n",
        "# система обновляет настройки\n",
        "ldconfig"
      ],
      "execution_count": 18,
      "outputs": [
        {
          "output_type": "stream",
          "text": [
            "/sbin/ldconfig.real: /usr/local/lib/python3.6/dist-packages/ideep4py/lib/libmkldnn.so.0 is not a symbolic link\n",
            "\n"
          ],
          "name": "stderr"
        }
      ]
    },
    {
      "cell_type": "code",
      "metadata": {
        "id": "_gvOVBlQWBW8",
        "colab_type": "code",
        "outputId": "299f1745-3785-4888-a884-f941a66815c8",
        "colab": {
          "base_uri": "https://localhost:8080/",
          "height": 347
        }
      },
      "source": [
        "print('Введите последовательность через пробел')\n",
        "text = input()\n",
        "arr = text.split()\n",
        "print(arr)\n",
        "f = open(\"Main.cpp\",\"r+\")\n",
        "main = f.read();\n",
        "main = main.replace('int length = 4;', 'int length = ' + str(len(arr)) + ';', 1)\n",
        "text = text.replace(' ', ',')\n",
        "main = main.replace('int arr[] = {1, 2, 3, 4};', 'int arr[] = {' + text +'};', 1)\n",
        "f.close()\n",
        "w = open(\"Main.cpp\",\"w\")\n",
        "print(main)\n",
        "w.write(main)\n",
        "w.close()"
      ],
      "execution_count": 19,
      "outputs": [
        {
          "output_type": "stream",
          "text": [
            "Введите последовательность через пробел\n",
            "5 4 23 1\n",
            "['5', '4', '23', '1']\n",
            "#include <iostream>\n",
            "#include <string>\n",
            "#include \"libIsRising.h\"\n",
            "using namespace std;\n",
            "\n",
            "int main(){\n",
            "    int length = 4;\n",
            "    int arr[] = {5,4,23,1};\n",
            "    if(isRising(arr, length)){\n",
            "        cout << \"Входная последовательность строго возрастающая\" << endl;\n",
            "    } else {\n",
            "        cout << \"Входная последовательность не является строго возрастающей\" << endl;\n",
            "    }\n",
            "    \n",
            "  return 0;\n",
            "}\n"
          ],
          "name": "stdout"
        }
      ]
    },
    {
      "cell_type": "code",
      "metadata": {
        "id": "9kogLZwehaYR",
        "colab_type": "code",
        "colab": {}
      },
      "source": [
        "%%script bash\n",
        "#Собираем программу, указав через -l — имя библиотеки (без lib), и с помощью -L — путь, по которому необходимо искать файл библиотеки\n",
        "g++ Main.cpp -o Main -lIsRising -L/content"
      ],
      "execution_count": 0,
      "outputs": []
    },
    {
      "cell_type": "code",
      "metadata": {
        "id": "mtJyXbTzj1r0",
        "colab_type": "code",
        "outputId": "76411ccc-daef-42e4-8e7d-d29bafc1a5b8",
        "colab": {
          "base_uri": "https://localhost:8080/",
          "height": 35
        }
      },
      "source": [
        "%%script bash\n",
        "./Main"
      ],
      "execution_count": 21,
      "outputs": [
        {
          "output_type": "stream",
          "text": [
            "Входная последовательность не является строго возрастающей\n"
          ],
          "name": "stdout"
        }
      ]
    },
    {
      "cell_type": "code",
      "metadata": {
        "id": "SpW4VG4sixVh",
        "colab_type": "code",
        "colab": {
          "base_uri": "https://localhost:8080/",
          "height": 295
        },
        "outputId": "8227de55-6050-474b-cd3f-0b5106bfe88b"
      },
      "source": [
        "%%script bash\n",
        "cat Main.cpp"
      ],
      "execution_count": 22,
      "outputs": [
        {
          "output_type": "stream",
          "text": [
            "#include <iostream>\n",
            "#include <string>\n",
            "#include \"libIsRising.h\"\n",
            "using namespace std;\n",
            "\n",
            "int main(){\n",
            "    int length = 4;\n",
            "    int arr[] = {5,4,23,1};\n",
            "    if(isRising(arr, length)){\n",
            "        cout << \"Входная последовательность строго возрастающая\" << endl;\n",
            "    } else {\n",
            "        cout << \"Входная последовательность не является строго возрастающей\" << endl;\n",
            "    }\n",
            "    \n",
            "  return 0;\n",
            "}"
          ],
          "name": "stdout"
        }
      ]
    }
  ]
}